{
 "cells": [
  {
   "cell_type": "code",
   "execution_count": 20,
   "metadata": {},
   "outputs": [],
   "source": [
    "import github3"
   ]
  },
  {
   "cell_type": "code",
   "execution_count": 22,
   "metadata": {},
   "outputs": [],
   "source": [
    "import yaml"
   ]
  },
  {
   "cell_type": "code",
   "execution_count": 32,
   "metadata": {},
   "outputs": [],
   "source": [
    "gh = github3.login(token='???')\n",
    "org = gh.organization('dd-decaf')"
   ]
  },
  {
   "cell_type": "code",
   "execution_count": 61,
   "metadata": {},
   "outputs": [],
   "source": [
    "MAPPING = {\n",
    "    'ANNOTATIONS': 'gene-to-reactions',\n",
    "    'GENOMICS': 'ice'\n",
    "}\n",
    "EXTRA = ['ILOOP_API']\n",
    "\n",
    "def node_name(repo, key=''):\n",
    "    repo = MAPPING.get(repo, repo)\n",
    "    repo += ' ' + key\n",
    "    repo = repo.replace('-', ' ')\n",
    "    return ''.join(repo.title().split())\n",
    "\n",
    "final = {}\n",
    "for repo in org.iter_repos():\n",
    "    compose = repo.contents('docker-compose.yml')\n",
    "    if compose:\n",
    "        yml = yaml.load(compose.decoded)\n",
    "        if 'version' in yml:\n",
    "            yml = yml['services']\n",
    "        for k, v in yml.items():\n",
    "            new_links = []\n",
    "            for en in v.get('environment', []):\n",
    "                e = en.split('=')[0]\n",
    "                if e.endswith('_API') and e not in EXTRA:\n",
    "                    new_links.append(node_name(e.replace('_API', '').replace('_', '-'), 'web'))\n",
    "            if 'links' in v:\n",
    "                v['links'] = [node_name(repo.name, s) for s in v['links']]\n",
    "            else:\n",
    "                v['links'] = []\n",
    "            v['links'].extend(new_links)\n",
    "            final[node_name(repo.name, k)] = v\n",
    "with open('docker-compose.yml', 'w') as f:\n",
    "    f.write(yaml.dump(final, default_flow_style=False))"
   ]
  },
  {
   "cell_type": "code",
   "execution_count": null,
   "metadata": {},
   "outputs": [],
   "source": []
  }
 ],
 "metadata": {
  "kernelspec": {
   "display_name": "Python 3",
   "language": "python",
   "name": "python3"
  },
  "language_info": {
   "codemirror_mode": {
    "name": "ipython",
    "version": 3
   },
   "file_extension": ".py",
   "mimetype": "text/x-python",
   "name": "python",
   "nbconvert_exporter": "python",
   "pygments_lexer": "ipython3",
   "version": "3.6.3"
  }
 },
 "nbformat": 4,
 "nbformat_minor": 2
}
